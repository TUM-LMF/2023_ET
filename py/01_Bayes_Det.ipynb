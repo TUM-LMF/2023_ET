{
 "cells": [
  {
   "cell_type": "code",
   "execution_count": 18,
   "id": "bd52f40a-894e-418e-9cd0-a2172afbe9c0",
   "metadata": {},
   "outputs": [
    {
     "name": "stdout",
     "output_type": "stream",
     "text": [
      "The tikzmagic extension is already loaded. To reload it, use:\n",
      "  %reload_ext tikzmagic\n"
     ]
    }
   ],
   "source": [
    "# Required packages\n",
    "# !pip install git+https://github.com/mkrphys/ipython-tikzmagic.git\n",
    "%load_ext tikzmagic\n",
    "\n",
    "#pip install jupyterlab_markup\n",
    "# or\n",
    "#conda install -c conda-forge jupyterlab-markup\n",
    "\n",
    "from IPython.display import display, Latex\n",
    "\n",
    "# !conda install sympy\n",
    "from sympy import Matrix, latex, print_latex, init_printing\n",
    "init_printing()"
   ]
  },
  {
   "cell_type": "markdown",
   "id": "89b49f11-6453-42db-9d3d-d45278b1b472",
   "metadata": {},
   "source": [
    "# Estimation Theory\n",
    "\n",
    "or \n",
    "\n",
    "# Remote Sensing Data"
   ]
  },
  {
   "cell_type": "markdown",
   "id": "c8436923-132a-4dd6-a1d7-db8334118d4f",
   "metadata": {},
   "source": [
    "## Bayes Theorem"
   ]
  },
  {
   "cell_type": "markdown",
   "id": "58fc5c82-fd08-40f6-bece-49644d9be7ef",
   "metadata": {},
   "source": [
    "An automatic speed control system detects speeding drivers (i.e. drivers, who are driving faster than the allowed speed limit). Speeding tickets are automatically sent to all detected speed limit violators.\n",
    "\n",
    "- $H$: Driver is going to fast.\n",
    "- $\\bar{H}$: Driver keeps to the speed limit.\n",
    "- $+$∶ Speed control system shows speeding driver.\n",
    "- $-$: Speed control system does not show speeding driver."
   ]
  },
  {
   "cell_type": "code",
   "execution_count": 2,
   "id": "13bb4f7c-7cdc-4646-837c-d53ca717daa8",
   "metadata": {},
   "outputs": [
    {
     "data": {
      "image/svg+xml": [
       "<svg xmlns=\"http://www.w3.org/2000/svg\" xmlns:xlink=\"http://www.w3.org/1999/xlink\" width=\"400px\" height=\"240px\" viewBox=\"0 0 221.13 148.503\" version=\"1.1\">\n",
       "<defs>\n",
       "<g>\n",
       "<symbol overflow=\"visible\" id=\"glyph0-0\">\n",
       "<path style=\"stroke:none;\" d=\"\"/>\n",
       "</symbol>\n",
       "<symbol overflow=\"visible\" id=\"glyph0-1\">\n",
       "<path style=\"stroke:none;\" d=\"M 7.609375 -6.046875 C 7.703125 -6.40625 7.71875 -6.5 8.4375 -6.5 C 8.703125 -6.5 8.78125 -6.5 8.78125 -6.703125 C 8.78125 -6.8125 8.671875 -6.8125 8.640625 -6.8125 C 8.359375 -6.8125 7.640625 -6.78125 7.359375 -6.78125 C 7.078125 -6.78125 6.375 -6.8125 6.078125 -6.8125 C 6 -6.8125 5.890625 -6.8125 5.890625 -6.609375 C 5.890625 -6.5 5.984375 -6.5 6.171875 -6.5 C 6.1875 -6.5 6.375 -6.5 6.546875 -6.484375 C 6.734375 -6.453125 6.8125 -6.453125 6.8125 -6.3125 C 6.8125 -6.28125 6.8125 -6.265625 6.78125 -6.125 L 6.1875 -3.703125 L 3.140625 -3.703125 L 3.734375 -6.046875 C 3.8125 -6.40625 3.84375 -6.5 4.5625 -6.5 C 4.828125 -6.5 4.90625 -6.5 4.90625 -6.703125 C 4.90625 -6.8125 4.796875 -6.8125 4.765625 -6.8125 C 4.484375 -6.8125 3.765625 -6.78125 3.484375 -6.78125 C 3.203125 -6.78125 2.5 -6.8125 2.203125 -6.8125 C 2.125 -6.8125 2.015625 -6.8125 2.015625 -6.609375 C 2.015625 -6.5 2.109375 -6.5 2.296875 -6.5 C 2.3125 -6.5 2.5 -6.5 2.671875 -6.484375 C 2.84375 -6.453125 2.9375 -6.453125 2.9375 -6.3125 C 2.9375 -6.28125 2.9375 -6.25 2.90625 -6.125 L 1.5625 -0.78125 C 1.46875 -0.390625 1.453125 -0.3125 0.65625 -0.3125 C 0.484375 -0.3125 0.390625 -0.3125 0.390625 -0.109375 C 0.390625 0 0.515625 0 0.53125 0 C 0.8125 0 1.515625 -0.03125 1.796875 -0.03125 C 2 -0.03125 2.21875 -0.015625 2.4375 -0.015625 C 2.65625 -0.015625 2.875 0 3.078125 0 C 3.15625 0 3.28125 0 3.28125 -0.203125 C 3.28125 -0.3125 3.1875 -0.3125 3 -0.3125 C 2.625 -0.3125 2.359375 -0.3125 2.359375 -0.484375 C 2.359375 -0.546875 2.375 -0.59375 2.375 -0.65625 L 3.0625 -3.390625 L 6.09375 -3.390625 C 5.6875 -1.734375 5.453125 -0.78125 5.40625 -0.640625 C 5.3125 -0.3125 5.125 -0.3125 4.5 -0.3125 C 4.359375 -0.3125 4.265625 -0.3125 4.265625 -0.109375 C 4.265625 0 4.390625 0 4.40625 0 C 4.6875 0 5.390625 -0.03125 5.671875 -0.03125 C 5.875 -0.03125 6.09375 -0.015625 6.3125 -0.015625 C 6.53125 -0.015625 6.75 0 6.953125 0 C 7.03125 0 7.15625 0 7.15625 -0.203125 C 7.15625 -0.3125 7.0625 -0.3125 6.875 -0.3125 C 6.515625 -0.3125 6.234375 -0.3125 6.234375 -0.484375 C 6.234375 -0.546875 6.25 -0.59375 6.265625 -0.65625 Z M 7.609375 -6.046875 \"/>\n",
       "</symbol>\n",
       "<symbol overflow=\"visible\" id=\"glyph0-2\">\n",
       "<path style=\"stroke:none;\" d=\"M 0.453125 1.21875 C 0.375 1.5625 0.34375 1.625 -0.09375 1.625 C -0.203125 1.625 -0.3125 1.625 -0.3125 1.8125 C -0.3125 1.890625 -0.265625 1.9375 -0.1875 1.9375 C 0.078125 1.9375 0.375 1.90625 0.640625 1.90625 C 0.984375 1.90625 1.3125 1.9375 1.640625 1.9375 C 1.6875 1.9375 1.8125 1.9375 1.8125 1.734375 C 1.8125 1.625 1.71875 1.625 1.578125 1.625 C 1.078125 1.625 1.078125 1.5625 1.078125 1.46875 C 1.078125 1.34375 1.5 -0.28125 1.5625 -0.53125 C 1.6875 -0.234375 1.96875 0.109375 2.484375 0.109375 C 3.640625 0.109375 4.890625 -1.34375 4.890625 -2.8125 C 4.890625 -3.75 4.3125 -4.40625 3.5625 -4.40625 C 3.0625 -4.40625 2.578125 -4.046875 2.25 -3.65625 C 2.15625 -4.203125 1.71875 -4.40625 1.359375 -4.40625 C 0.890625 -4.40625 0.703125 -4.015625 0.625 -3.84375 C 0.4375 -3.5 0.3125 -2.90625 0.3125 -2.875 C 0.3125 -2.765625 0.40625 -2.765625 0.421875 -2.765625 C 0.53125 -2.765625 0.53125 -2.78125 0.59375 -3 C 0.765625 -3.703125 0.96875 -4.1875 1.328125 -4.1875 C 1.5 -4.1875 1.640625 -4.109375 1.640625 -3.734375 C 1.640625 -3.5 1.609375 -3.390625 1.5625 -3.21875 Z M 2.203125 -3.109375 C 2.265625 -3.375 2.546875 -3.65625 2.71875 -3.8125 C 3.078125 -4.109375 3.359375 -4.1875 3.53125 -4.1875 C 3.921875 -4.1875 4.171875 -3.84375 4.171875 -3.25 C 4.171875 -2.65625 3.84375 -1.515625 3.65625 -1.140625 C 3.3125 -0.4375 2.84375 -0.109375 2.46875 -0.109375 C 1.8125 -0.109375 1.6875 -0.9375 1.6875 -1 C 1.6875 -1.015625 1.6875 -1.03125 1.71875 -1.15625 Z M 2.203125 -3.109375 \"/>\n",
       "</symbol>\n",
       "<symbol overflow=\"visible\" id=\"glyph0-3\">\n",
       "<path style=\"stroke:none;\" d=\"M 1.90625 -0.53125 C 1.90625 -0.8125 1.671875 -1.0625 1.390625 -1.0625 C 1.09375 -1.0625 0.859375 -0.8125 0.859375 -0.53125 C 0.859375 -0.234375 1.09375 0 1.390625 0 C 1.671875 0 1.90625 -0.234375 1.90625 -0.53125 Z M 1.90625 -0.53125 \"/>\n",
       "</symbol>\n",
       "<symbol overflow=\"visible\" id=\"glyph1-0\">\n",
       "<path style=\"stroke:none;\" d=\"\"/>\n",
       "</symbol>\n",
       "<symbol overflow=\"visible\" id=\"glyph1-1\">\n",
       "<path style=\"stroke:none;\" d=\"M 4.078125 -2.296875 L 6.859375 -2.296875 C 7 -2.296875 7.1875 -2.296875 7.1875 -2.5 C 7.1875 -2.6875 7 -2.6875 6.859375 -2.6875 L 4.078125 -2.6875 L 4.078125 -5.484375 C 4.078125 -5.625 4.078125 -5.8125 3.875 -5.8125 C 3.671875 -5.8125 3.671875 -5.625 3.671875 -5.484375 L 3.671875 -2.6875 L 0.890625 -2.6875 C 0.75 -2.6875 0.5625 -2.6875 0.5625 -2.5 C 0.5625 -2.296875 0.75 -2.296875 0.890625 -2.296875 L 3.671875 -2.296875 L 3.671875 0.5 C 3.671875 0.640625 3.671875 0.828125 3.875 0.828125 C 4.078125 0.828125 4.078125 0.640625 4.078125 0.5 Z M 4.078125 -2.296875 \"/>\n",
       "</symbol>\n",
       "<symbol overflow=\"visible\" id=\"glyph1-2\">\n",
       "<path style=\"stroke:none;\" d=\"M 4.28125 -5.578125 L 4.28125 -5.875 L 0.6875 -5.875 L 0.6875 -5.578125 Z M 4.28125 -5.578125 \"/>\n",
       "</symbol>\n",
       "<symbol overflow=\"visible\" id=\"glyph1-3\">\n",
       "<path style=\"stroke:none;\" d=\"M 3.296875 2.390625 C 3.296875 2.359375 3.296875 2.34375 3.125 2.171875 C 1.890625 0.921875 1.5625 -0.96875 1.5625 -2.5 C 1.5625 -4.234375 1.9375 -5.96875 3.171875 -7.203125 C 3.296875 -7.328125 3.296875 -7.34375 3.296875 -7.375 C 3.296875 -7.453125 3.265625 -7.484375 3.203125 -7.484375 C 3.09375 -7.484375 2.203125 -6.796875 1.609375 -5.53125 C 1.109375 -4.4375 0.984375 -3.328125 0.984375 -2.5 C 0.984375 -1.71875 1.09375 -0.515625 1.640625 0.625 C 2.25 1.84375 3.09375 2.5 3.203125 2.5 C 3.265625 2.5 3.296875 2.46875 3.296875 2.390625 Z M 3.296875 2.390625 \"/>\n",
       "</symbol>\n",
       "<symbol overflow=\"visible\" id=\"glyph1-4\">\n",
       "<path style=\"stroke:none;\" d=\"M 2.875 -2.5 C 2.875 -3.265625 2.765625 -4.46875 2.21875 -5.609375 C 1.625 -6.828125 0.765625 -7.484375 0.671875 -7.484375 C 0.609375 -7.484375 0.5625 -7.4375 0.5625 -7.375 C 0.5625 -7.34375 0.5625 -7.328125 0.75 -7.140625 C 1.734375 -6.15625 2.296875 -4.578125 2.296875 -2.5 C 2.296875 -0.78125 1.9375 0.96875 0.703125 2.21875 C 0.5625 2.34375 0.5625 2.359375 0.5625 2.390625 C 0.5625 2.453125 0.609375 2.5 0.671875 2.5 C 0.765625 2.5 1.671875 1.8125 2.25 0.546875 C 2.765625 -0.546875 2.875 -1.65625 2.875 -2.5 Z M 2.875 -2.5 \"/>\n",
       "</symbol>\n",
       "<symbol overflow=\"visible\" id=\"glyph1-5\">\n",
       "<path style=\"stroke:none;\" d=\"M 6.84375 -3.265625 C 7 -3.265625 7.1875 -3.265625 7.1875 -3.453125 C 7.1875 -3.65625 7 -3.65625 6.859375 -3.65625 L 0.890625 -3.65625 C 0.75 -3.65625 0.5625 -3.65625 0.5625 -3.453125 C 0.5625 -3.265625 0.75 -3.265625 0.890625 -3.265625 Z M 6.859375 -1.328125 C 7 -1.328125 7.1875 -1.328125 7.1875 -1.53125 C 7.1875 -1.71875 7 -1.71875 6.84375 -1.71875 L 0.890625 -1.71875 C 0.75 -1.71875 0.5625 -1.71875 0.5625 -1.53125 C 0.5625 -1.328125 0.75 -1.328125 0.890625 -1.328125 Z M 6.859375 -1.328125 \"/>\n",
       "</symbol>\n",
       "<symbol overflow=\"visible\" id=\"glyph1-6\">\n",
       "<path style=\"stroke:none;\" d=\"M 4.578125 -3.1875 C 4.578125 -3.984375 4.53125 -4.78125 4.1875 -5.515625 C 3.734375 -6.484375 2.90625 -6.640625 2.5 -6.640625 C 1.890625 -6.640625 1.171875 -6.375 0.75 -5.453125 C 0.4375 -4.765625 0.390625 -3.984375 0.390625 -3.1875 C 0.390625 -2.4375 0.421875 -1.546875 0.84375 -0.78125 C 1.265625 0.015625 2 0.21875 2.484375 0.21875 C 3.015625 0.21875 3.78125 0.015625 4.21875 -0.9375 C 4.53125 -1.625 4.578125 -2.40625 4.578125 -3.1875 Z M 2.484375 0 C 2.09375 0 1.5 -0.25 1.328125 -1.203125 C 1.21875 -1.796875 1.21875 -2.71875 1.21875 -3.3125 C 1.21875 -3.953125 1.21875 -4.609375 1.296875 -5.140625 C 1.484375 -6.328125 2.234375 -6.421875 2.484375 -6.421875 C 2.8125 -6.421875 3.46875 -6.234375 3.65625 -5.25 C 3.765625 -4.6875 3.765625 -3.9375 3.765625 -3.3125 C 3.765625 -2.5625 3.765625 -1.890625 3.65625 -1.25 C 3.5 -0.296875 2.9375 0 2.484375 0 Z M 2.484375 0 \"/>\n",
       "</symbol>\n",
       "<symbol overflow=\"visible\" id=\"glyph1-7\">\n",
       "<path style=\"stroke:none;\" d=\"M 1.625 -4.5625 C 1.171875 -4.859375 1.125 -5.1875 1.125 -5.359375 C 1.125 -5.96875 1.78125 -6.390625 2.484375 -6.390625 C 3.203125 -6.390625 3.84375 -5.875 3.84375 -5.15625 C 3.84375 -4.578125 3.453125 -4.109375 2.859375 -3.765625 Z M 3.078125 -3.609375 C 3.796875 -3.984375 4.28125 -4.5 4.28125 -5.15625 C 4.28125 -6.078125 3.40625 -6.640625 2.5 -6.640625 C 1.5 -6.640625 0.6875 -5.90625 0.6875 -4.96875 C 0.6875 -4.796875 0.703125 -4.34375 1.125 -3.875 C 1.234375 -3.765625 1.609375 -3.515625 1.859375 -3.34375 C 1.28125 -3.046875 0.421875 -2.5 0.421875 -1.5 C 0.421875 -0.453125 1.4375 0.21875 2.484375 0.21875 C 3.609375 0.21875 4.5625 -0.609375 4.5625 -1.671875 C 4.5625 -2.03125 4.453125 -2.484375 4.0625 -2.90625 C 3.875 -3.109375 3.71875 -3.203125 3.078125 -3.609375 Z M 2.078125 -3.1875 L 3.3125 -2.40625 C 3.59375 -2.21875 4.0625 -1.921875 4.0625 -1.3125 C 4.0625 -0.578125 3.3125 -0.0625 2.5 -0.0625 C 1.640625 -0.0625 0.921875 -0.671875 0.921875 -1.5 C 0.921875 -2.078125 1.234375 -2.71875 2.078125 -3.1875 Z M 2.078125 -3.1875 \"/>\n",
       "</symbol>\n",
       "<symbol overflow=\"visible\" id=\"glyph1-8\">\n",
       "<path style=\"stroke:none;\" d=\"M 3.65625 -3.171875 L 3.65625 -2.84375 C 3.65625 -0.515625 2.625 -0.0625 2.046875 -0.0625 C 1.875 -0.0625 1.328125 -0.078125 1.0625 -0.421875 C 1.5 -0.421875 1.578125 -0.703125 1.578125 -0.875 C 1.578125 -1.1875 1.34375 -1.328125 1.125 -1.328125 C 0.96875 -1.328125 0.671875 -1.25 0.671875 -0.859375 C 0.671875 -0.1875 1.203125 0.21875 2.046875 0.21875 C 3.34375 0.21875 4.5625 -1.140625 4.5625 -3.28125 C 4.5625 -5.96875 3.40625 -6.640625 2.515625 -6.640625 C 1.96875 -6.640625 1.484375 -6.453125 1.0625 -6.015625 C 0.640625 -5.5625 0.421875 -5.140625 0.421875 -4.390625 C 0.421875 -3.15625 1.296875 -2.171875 2.40625 -2.171875 C 3.015625 -2.171875 3.421875 -2.59375 3.65625 -3.171875 Z M 2.421875 -2.40625 C 2.265625 -2.40625 1.796875 -2.40625 1.5 -3.03125 C 1.3125 -3.40625 1.3125 -3.890625 1.3125 -4.390625 C 1.3125 -4.921875 1.3125 -5.390625 1.53125 -5.765625 C 1.796875 -6.265625 2.171875 -6.390625 2.515625 -6.390625 C 2.984375 -6.390625 3.3125 -6.046875 3.484375 -5.609375 C 3.59375 -5.28125 3.640625 -4.65625 3.640625 -4.203125 C 3.640625 -3.375 3.296875 -2.40625 2.421875 -2.40625 Z M 2.421875 -2.40625 \"/>\n",
       "</symbol>\n",
       "<symbol overflow=\"visible\" id=\"glyph1-9\">\n",
       "<path style=\"stroke:none;\" d=\"M 2.9375 -6.375 C 2.9375 -6.625 2.9375 -6.640625 2.703125 -6.640625 C 2.078125 -6 1.203125 -6 0.890625 -6 L 0.890625 -5.6875 C 1.09375 -5.6875 1.671875 -5.6875 2.1875 -5.953125 L 2.1875 -0.78125 C 2.1875 -0.421875 2.15625 -0.3125 1.265625 -0.3125 L 0.953125 -0.3125 L 0.953125 0 C 1.296875 -0.03125 2.15625 -0.03125 2.5625 -0.03125 C 2.953125 -0.03125 3.828125 -0.03125 4.171875 0 L 4.171875 -0.3125 L 3.859375 -0.3125 C 2.953125 -0.3125 2.9375 -0.421875 2.9375 -0.78125 Z M 2.9375 -6.375 \"/>\n",
       "</symbol>\n",
       "<symbol overflow=\"visible\" id=\"glyph1-10\">\n",
       "<path style=\"stroke:none;\" d=\"M 1.265625 -0.765625 L 2.328125 -1.796875 C 3.875 -3.171875 4.46875 -3.703125 4.46875 -4.703125 C 4.46875 -5.84375 3.578125 -6.640625 2.359375 -6.640625 C 1.234375 -6.640625 0.5 -5.71875 0.5 -4.828125 C 0.5 -4.28125 1 -4.28125 1.03125 -4.28125 C 1.203125 -4.28125 1.546875 -4.390625 1.546875 -4.8125 C 1.546875 -5.0625 1.359375 -5.328125 1.015625 -5.328125 C 0.9375 -5.328125 0.921875 -5.328125 0.890625 -5.3125 C 1.109375 -5.96875 1.65625 -6.328125 2.234375 -6.328125 C 3.140625 -6.328125 3.5625 -5.515625 3.5625 -4.703125 C 3.5625 -3.90625 3.078125 -3.125 2.515625 -2.5 L 0.609375 -0.375 C 0.5 -0.265625 0.5 -0.234375 0.5 0 L 4.203125 0 L 4.46875 -1.734375 L 4.234375 -1.734375 C 4.171875 -1.4375 4.109375 -1 4 -0.84375 C 3.9375 -0.765625 3.28125 -0.765625 3.0625 -0.765625 Z M 1.265625 -0.765625 \"/>\n",
       "</symbol>\n",
       "<symbol overflow=\"visible\" id=\"glyph2-0\">\n",
       "<path style=\"stroke:none;\" d=\"\"/>\n",
       "</symbol>\n",
       "<symbol overflow=\"visible\" id=\"glyph2-1\">\n",
       "<path style=\"stroke:none;\" d=\"M 6.5625 -2.296875 C 6.734375 -2.296875 6.921875 -2.296875 6.921875 -2.5 C 6.921875 -2.6875 6.734375 -2.6875 6.5625 -2.6875 L 1.171875 -2.6875 C 1 -2.6875 0.828125 -2.6875 0.828125 -2.5 C 0.828125 -2.296875 1 -2.296875 1.171875 -2.296875 Z M 6.5625 -2.296875 \"/>\n",
       "</symbol>\n",
       "<symbol overflow=\"visible\" id=\"glyph2-2\">\n",
       "<path style=\"stroke:none;\" d=\"M 1.578125 -7.125 C 1.578125 -7.296875 1.578125 -7.484375 1.390625 -7.484375 C 1.1875 -7.484375 1.1875 -7.296875 1.1875 -7.125 L 1.1875 2.140625 C 1.1875 2.3125 1.1875 2.5 1.390625 2.5 C 1.578125 2.5 1.578125 2.3125 1.578125 2.140625 Z M 1.578125 -7.125 \"/>\n",
       "</symbol>\n",
       "</g>\n",
       "</defs>\n",
       "<g id=\"surface1\">\n",
       "<path style=\"fill:none;stroke-width:0.3985;stroke-linecap:butt;stroke-linejoin:miter;stroke:rgb(0%,0%,0%);stroke-opacity:1;stroke-miterlimit:10;\" d=\"M -7.867906 -6.724844 L 7.866469 -6.724844 L 7.866469 6.724375 L -7.867906 6.724375 Z M -7.867906 -6.724844 \" transform=\"matrix(1,0,0,-1,34.114,24.115)\"/>\n",
       "<g style=\"fill:rgb(0%,0%,0%);fill-opacity:1;\">\n",
       "  <use xlink:href=\"#glyph0-1\" x=\"29.569\" y=\"27.519\"/>\n",
       "</g>\n",
       "<path style=\"fill:none;stroke-width:0.3985;stroke-linecap:butt;stroke-linejoin:miter;stroke:rgb(0%,0%,0%);stroke-opacity:1;stroke-miterlimit:10;\" d=\"M 149.999281 -6.642813 L 164.389906 -6.642813 L 164.389906 6.642344 L 149.999281 6.642344 Z M 149.999281 -6.642813 \" transform=\"matrix(1,0,0,-1,34.114,24.115)\"/>\n",
       "<g style=\"fill:rgb(0%,0%,0%);fill-opacity:1;\">\n",
       "  <use xlink:href=\"#glyph1-1\" x=\"187.431\" y=\"26.606\"/>\n",
       "</g>\n",
       "<path style=\"fill:none;stroke-width:0.3985;stroke-linecap:butt;stroke-linejoin:miter;stroke:rgb(0%,0%,0%);stroke-opacity:1;stroke-miterlimit:10;\" d=\"M -7.867906 -106.97875 L 7.866469 -106.97875 L 7.866469 -92.162344 L -7.867906 -92.162344 Z M -7.867906 -106.97875 \" transform=\"matrix(1,0,0,-1,34.114,24.115)\"/>\n",
       "<g style=\"fill:rgb(0%,0%,0%);fill-opacity:1;\">\n",
       "  <use xlink:href=\"#glyph1-2\" x=\"32.177\" y=\"125.255\"/>\n",
       "</g>\n",
       "<g style=\"fill:rgb(0%,0%,0%);fill-opacity:1;\">\n",
       "  <use xlink:href=\"#glyph0-1\" x=\"29.569\" y=\"127.773\"/>\n",
       "</g>\n",
       "<path style=\"fill:none;stroke-width:0.3985;stroke-linecap:butt;stroke-linejoin:miter;stroke:rgb(0%,0%,0%);stroke-opacity:1;stroke-miterlimit:10;\" d=\"M 149.999281 -106.213125 L 164.389906 -106.213125 L 164.389906 -92.931875 L 149.999281 -92.931875 Z M 149.999281 -106.213125 \" transform=\"matrix(1,0,0,-1,34.114,24.115)\"/>\n",
       "<g style=\"fill:rgb(0%,0%,0%);fill-opacity:1;\">\n",
       "  <use xlink:href=\"#glyph2-1\" x=\"187.431\" y=\"126.176\"/>\n",
       "</g>\n",
       "<path style=\"fill:none;stroke-width:0.3985;stroke-linecap:butt;stroke-linejoin:miter;stroke:rgb(0%,0%,0%);stroke-opacity:1;stroke-miterlimit:10;\" d=\"M 8.065688 1.20875 C 62.725844 9.372812 95.147719 9.353281 147.827406 1.407969 \" transform=\"matrix(1,0,0,-1,34.114,24.115)\"/>\n",
       "<path style=\" stroke:none;fill-rule:nonzero;fill:rgb(0%,0%,0%);fill-opacity:1;\" d=\"M 183.914062 23.003906 L 181 20.953125 L 181.941406 22.707031 L 180.523438 24.105469 \"/>\n",
       "<g style=\"fill:rgb(0%,0%,0%);fill-opacity:1;\">\n",
       "  <use xlink:href=\"#glyph0-2\" x=\"83.859\" y=\"10.793\"/>\n",
       "</g>\n",
       "<g style=\"fill:rgb(0%,0%,0%);fill-opacity:1;\">\n",
       "  <use xlink:href=\"#glyph1-3\" x=\"88.871\" y=\"10.793\"/>\n",
       "  <use xlink:href=\"#glyph1-1\" x=\"92.745455\" y=\"10.793\"/>\n",
       "</g>\n",
       "<g style=\"fill:rgb(0%,0%,0%);fill-opacity:1;\">\n",
       "  <use xlink:href=\"#glyph2-2\" x=\"100.495\" y=\"10.793\"/>\n",
       "</g>\n",
       "<g style=\"fill:rgb(0%,0%,0%);fill-opacity:1;\">\n",
       "  <use xlink:href=\"#glyph0-1\" x=\"103.262\" y=\"10.793\"/>\n",
       "</g>\n",
       "<g style=\"fill:rgb(0%,0%,0%);fill-opacity:1;\">\n",
       "  <use xlink:href=\"#glyph1-4\" x=\"112.353\" y=\"10.793\"/>\n",
       "</g>\n",
       "<g style=\"fill:rgb(0%,0%,0%);fill-opacity:1;\">\n",
       "  <use xlink:href=\"#glyph1-5\" x=\"118.997058\" y=\"10.793\"/>\n",
       "</g>\n",
       "<g style=\"fill:rgb(0%,0%,0%);fill-opacity:1;\">\n",
       "  <use xlink:href=\"#glyph1-6\" x=\"129.515571\" y=\"10.793\"/>\n",
       "</g>\n",
       "<g style=\"fill:rgb(0%,0%,0%);fill-opacity:1;\">\n",
       "  <use xlink:href=\"#glyph0-3\" x=\"134.492\" y=\"10.793\"/>\n",
       "</g>\n",
       "<g style=\"fill:rgb(0%,0%,0%);fill-opacity:1;\">\n",
       "  <use xlink:href=\"#glyph1-7\" x=\"137.259\" y=\"10.793\"/>\n",
       "</g>\n",
       "<path style=\"fill:none;stroke-width:0.3985;stroke-linecap:butt;stroke-linejoin:miter;stroke:rgb(0%,0%,0%);stroke-opacity:1;stroke-miterlimit:10;\" d=\"M 149.800062 -1.107656 C 95.147719 -9.349844 62.725844 -9.373281 10.034438 -1.506094 \" transform=\"matrix(1,0,0,-1,34.114,24.115)\"/>\n",
       "<path style=\" stroke:none;fill-rule:nonzero;fill:rgb(0%,0%,0%);fill-opacity:1;\" d=\"M 42.179688 25.324219 L 45.097656 27.371094 L 44.148438 25.621094 L 45.566406 24.21875 \"/>\n",
       "<g style=\"fill:rgb(0%,0%,0%);fill-opacity:1;\">\n",
       "  <use xlink:href=\"#glyph0-2\" x=\"96.866\" y=\"42.419\"/>\n",
       "</g>\n",
       "<g style=\"fill:rgb(0%,0%,0%);fill-opacity:1;\">\n",
       "  <use xlink:href=\"#glyph1-3\" x=\"101.878\" y=\"42.419\"/>\n",
       "</g>\n",
       "<g style=\"fill:rgb(0%,0%,0%);fill-opacity:1;\">\n",
       "  <use xlink:href=\"#glyph0-1\" x=\"105.753\" y=\"42.419\"/>\n",
       "</g>\n",
       "<g style=\"fill:rgb(0%,0%,0%);fill-opacity:1;\">\n",
       "  <use xlink:href=\"#glyph2-2\" x=\"114.843\" y=\"42.419\"/>\n",
       "</g>\n",
       "<g style=\"fill:rgb(0%,0%,0%);fill-opacity:1;\">\n",
       "  <use xlink:href=\"#glyph1-1\" x=\"117.611\" y=\"42.419\"/>\n",
       "  <use xlink:href=\"#glyph1-4\" x=\"125.35991\" y=\"42.419\"/>\n",
       "</g>\n",
       "<path style=\"fill:none;stroke-width:0.3985;stroke-linecap:butt;stroke-linejoin:miter;stroke:rgb(0%,0%,0%);stroke-opacity:1;stroke-miterlimit:10;\" d=\"M 8.065688 -98.361563 C 62.725844 -90.1975 95.147719 -90.220938 147.827406 -98.16625 \" transform=\"matrix(1,0,0,-1,34.114,24.115)\"/>\n",
       "<path style=\" stroke:none;fill-rule:nonzero;fill:rgb(0%,0%,0%);fill-opacity:1;\" d=\"M 183.914062 122.578125 L 181 120.527344 L 181.941406 122.28125 L 180.523438 123.679688 \"/>\n",
       "<g style=\"fill:rgb(0%,0%,0%);fill-opacity:1;\">\n",
       "  <use xlink:href=\"#glyph0-2\" x=\"81.368\" y=\"110.363\"/>\n",
       "</g>\n",
       "<g style=\"fill:rgb(0%,0%,0%);fill-opacity:1;\">\n",
       "  <use xlink:href=\"#glyph1-3\" x=\"86.381\" y=\"110.363\"/>\n",
       "</g>\n",
       "<g style=\"fill:rgb(0%,0%,0%);fill-opacity:1;\">\n",
       "  <use xlink:href=\"#glyph2-1\" x=\"90.255\" y=\"110.363\"/>\n",
       "  <use xlink:href=\"#glyph2-2\" x=\"98.00391\" y=\"110.363\"/>\n",
       "</g>\n",
       "<g style=\"fill:rgb(0%,0%,0%);fill-opacity:1;\">\n",
       "  <use xlink:href=\"#glyph1-2\" x=\"103.38\" y=\"107.845\"/>\n",
       "</g>\n",
       "<g style=\"fill:rgb(0%,0%,0%);fill-opacity:1;\">\n",
       "  <use xlink:href=\"#glyph0-1\" x=\"100.771\" y=\"110.363\"/>\n",
       "</g>\n",
       "<g style=\"fill:rgb(0%,0%,0%);fill-opacity:1;\">\n",
       "  <use xlink:href=\"#glyph1-4\" x=\"109.862\" y=\"110.363\"/>\n",
       "</g>\n",
       "<g style=\"fill:rgb(0%,0%,0%);fill-opacity:1;\">\n",
       "  <use xlink:href=\"#glyph1-5\" x=\"116.506058\" y=\"110.363\"/>\n",
       "</g>\n",
       "<g style=\"fill:rgb(0%,0%,0%);fill-opacity:1;\">\n",
       "  <use xlink:href=\"#glyph1-6\" x=\"127.024571\" y=\"110.363\"/>\n",
       "</g>\n",
       "<g style=\"fill:rgb(0%,0%,0%);fill-opacity:1;\">\n",
       "  <use xlink:href=\"#glyph0-3\" x=\"132.001\" y=\"110.363\"/>\n",
       "</g>\n",
       "<g style=\"fill:rgb(0%,0%,0%);fill-opacity:1;\">\n",
       "  <use xlink:href=\"#glyph1-8\" x=\"134.769\" y=\"110.363\"/>\n",
       "  <use xlink:href=\"#glyph1-7\" x=\"139.7503\" y=\"110.363\"/>\n",
       "</g>\n",
       "<path style=\"fill:none;stroke-width:0.3985;stroke-linecap:butt;stroke-linejoin:miter;stroke:rgb(0%,0%,0%);stroke-opacity:1;stroke-miterlimit:10;\" d=\"M 149.800062 -100.681875 C 95.147719 -108.924063 62.725844 -108.943594 10.034438 -101.076406 \" transform=\"matrix(1,0,0,-1,34.114,24.115)\"/>\n",
       "<path style=\" stroke:none;fill-rule:nonzero;fill:rgb(0%,0%,0%);fill-opacity:1;\" d=\"M 42.179688 124.898438 L 45.097656 126.945312 L 44.148438 125.191406 L 45.566406 123.792969 \"/>\n",
       "<g style=\"fill:rgb(0%,0%,0%);fill-opacity:1;\">\n",
       "  <use xlink:href=\"#glyph0-2\" x=\"96.866\" y=\"142.692\"/>\n",
       "</g>\n",
       "<g style=\"fill:rgb(0%,0%,0%);fill-opacity:1;\">\n",
       "  <use xlink:href=\"#glyph1-3\" x=\"101.878\" y=\"142.692\"/>\n",
       "</g>\n",
       "<g style=\"fill:rgb(0%,0%,0%);fill-opacity:1;\">\n",
       "  <use xlink:href=\"#glyph1-2\" x=\"108.361\" y=\"140.173\"/>\n",
       "</g>\n",
       "<g style=\"fill:rgb(0%,0%,0%);fill-opacity:1;\">\n",
       "  <use xlink:href=\"#glyph0-1\" x=\"105.753\" y=\"142.692\"/>\n",
       "</g>\n",
       "<g style=\"fill:rgb(0%,0%,0%);fill-opacity:1;\">\n",
       "  <use xlink:href=\"#glyph2-2\" x=\"114.843\" y=\"142.692\"/>\n",
       "  <use xlink:href=\"#glyph2-1\" x=\"117.61061\" y=\"142.692\"/>\n",
       "</g>\n",
       "<g style=\"fill:rgb(0%,0%,0%);fill-opacity:1;\">\n",
       "  <use xlink:href=\"#glyph1-4\" x=\"125.36\" y=\"142.692\"/>\n",
       "</g>\n",
       "<path style=\"fill:none;stroke-width:0.3985;stroke-linecap:butt;stroke-linejoin:miter;stroke:rgb(0%,0%,0%);stroke-opacity:1;stroke-miterlimit:10;\" d=\"M 8.065688 -3.552969 C 67.964125 -29.935781 100.280531 -50.369375 148.29225 -91.869375 \" transform=\"matrix(1,0,0,-1,34.114,24.115)\"/>\n",
       "<path style=\" stroke:none;fill-rule:nonzero;fill:rgb(0%,0%,0%);fill-opacity:1;\" d=\"M 183.914062 117.285156 L 182.542969 113.996094 L 182.40625 115.984375 L 180.460938 116.40625 \"/>\n",
       "<g style=\"fill:rgb(0%,0%,0%);fill-opacity:1;\">\n",
       "  <use xlink:href=\"#glyph0-2\" x=\"159.428\" y=\"96.553\"/>\n",
       "</g>\n",
       "<g style=\"fill:rgb(0%,0%,0%);fill-opacity:1;\">\n",
       "  <use xlink:href=\"#glyph1-3\" x=\"164.44\" y=\"96.553\"/>\n",
       "</g>\n",
       "<g style=\"fill:rgb(0%,0%,0%);fill-opacity:1;\">\n",
       "  <use xlink:href=\"#glyph2-1\" x=\"168.314\" y=\"96.553\"/>\n",
       "  <use xlink:href=\"#glyph2-2\" x=\"176.06291\" y=\"96.553\"/>\n",
       "</g>\n",
       "<g style=\"fill:rgb(0%,0%,0%);fill-opacity:1;\">\n",
       "  <use xlink:href=\"#glyph0-1\" x=\"178.831\" y=\"96.553\"/>\n",
       "</g>\n",
       "<g style=\"fill:rgb(0%,0%,0%);fill-opacity:1;\">\n",
       "  <use xlink:href=\"#glyph1-4\" x=\"187.921\" y=\"96.553\"/>\n",
       "</g>\n",
       "<g style=\"fill:rgb(0%,0%,0%);fill-opacity:1;\">\n",
       "  <use xlink:href=\"#glyph1-5\" x=\"194.565058\" y=\"96.553\"/>\n",
       "</g>\n",
       "<g style=\"fill:rgb(0%,0%,0%);fill-opacity:1;\">\n",
       "  <use xlink:href=\"#glyph1-6\" x=\"205.083571\" y=\"96.553\"/>\n",
       "</g>\n",
       "<g style=\"fill:rgb(0%,0%,0%);fill-opacity:1;\">\n",
       "  <use xlink:href=\"#glyph0-3\" x=\"210.061\" y=\"96.553\"/>\n",
       "</g>\n",
       "<g style=\"fill:rgb(0%,0%,0%);fill-opacity:1;\">\n",
       "  <use xlink:href=\"#glyph1-9\" x=\"212.828\" y=\"96.553\"/>\n",
       "</g>\n",
       "<path style=\"fill:none;stroke-width:0.3985;stroke-linecap:butt;stroke-linejoin:miter;stroke:rgb(0%,0%,0%);stroke-opacity:1;stroke-miterlimit:10;\" d=\"M 149.800062 -96.310781 C 89.831312 -69.998281 57.596938 -49.681875 9.503188 -8.224844 \" transform=\"matrix(1,0,0,-1,34.114,24.115)\"/>\n",
       "<path style=\" stroke:none;fill-rule:nonzero;fill:rgb(0%,0%,0%);fill-opacity:1;\" d=\"M 42.109375 31.039062 L 43.484375 34.328125 L 43.617188 32.339844 L 45.566406 31.914062 \"/>\n",
       "<g style=\"fill:rgb(0%,0%,0%);fill-opacity:1;\">\n",
       "  <use xlink:href=\"#glyph0-2\" x=\"34.258\" y=\"56.718\"/>\n",
       "</g>\n",
       "<g style=\"fill:rgb(0%,0%,0%);fill-opacity:1;\">\n",
       "  <use xlink:href=\"#glyph1-3\" x=\"39.271\" y=\"56.718\"/>\n",
       "</g>\n",
       "<g style=\"fill:rgb(0%,0%,0%);fill-opacity:1;\">\n",
       "  <use xlink:href=\"#glyph0-1\" x=\"43.145\" y=\"56.718\"/>\n",
       "</g>\n",
       "<g style=\"fill:rgb(0%,0%,0%);fill-opacity:1;\">\n",
       "  <use xlink:href=\"#glyph2-2\" x=\"52.236\" y=\"56.718\"/>\n",
       "  <use xlink:href=\"#glyph2-1\" x=\"55.00361\" y=\"56.718\"/>\n",
       "</g>\n",
       "<g style=\"fill:rgb(0%,0%,0%);fill-opacity:1;\">\n",
       "  <use xlink:href=\"#glyph1-4\" x=\"62.752\" y=\"56.718\"/>\n",
       "</g>\n",
       "<path style=\"fill:none;stroke-width:0.3985;stroke-linecap:butt;stroke-linejoin:miter;stroke:rgb(0%,0%,0%);stroke-opacity:1;stroke-miterlimit:10;\" d=\"M 8.065688 -92.592031 C 57.643813 -49.857656 89.858656 -29.552969 147.975844 -4.060781 \" transform=\"matrix(1,0,0,-1,34.114,24.115)\"/>\n",
       "<path style=\" stroke:none;fill-rule:nonzero;fill:rgb(0%,0%,0%);fill-opacity:1;\" d=\"M 183.914062 27.375 L 180.355469 27.195312 L 182.089844 28.175781 L 181.632812 30.113281 \"/>\n",
       "<g style=\"fill:rgb(0%,0%,0%);fill-opacity:1;\">\n",
       "  <use xlink:href=\"#glyph0-2\" x=\"3.32\" y=\"96.372\"/>\n",
       "</g>\n",
       "<g style=\"fill:rgb(0%,0%,0%);fill-opacity:1;\">\n",
       "  <use xlink:href=\"#glyph1-3\" x=\"8.333\" y=\"96.372\"/>\n",
       "  <use xlink:href=\"#glyph1-1\" x=\"12.207455\" y=\"96.372\"/>\n",
       "</g>\n",
       "<g style=\"fill:rgb(0%,0%,0%);fill-opacity:1;\">\n",
       "  <use xlink:href=\"#glyph2-2\" x=\"19.956\" y=\"96.372\"/>\n",
       "</g>\n",
       "<g style=\"fill:rgb(0%,0%,0%);fill-opacity:1;\">\n",
       "  <use xlink:href=\"#glyph1-2\" x=\"25.332\" y=\"93.854\"/>\n",
       "</g>\n",
       "<g style=\"fill:rgb(0%,0%,0%);fill-opacity:1;\">\n",
       "  <use xlink:href=\"#glyph0-1\" x=\"22.723\" y=\"96.372\"/>\n",
       "</g>\n",
       "<g style=\"fill:rgb(0%,0%,0%);fill-opacity:1;\">\n",
       "  <use xlink:href=\"#glyph1-4\" x=\"31.814\" y=\"96.372\"/>\n",
       "</g>\n",
       "<g style=\"fill:rgb(0%,0%,0%);fill-opacity:1;\">\n",
       "  <use xlink:href=\"#glyph1-5\" x=\"38.458058\" y=\"96.372\"/>\n",
       "</g>\n",
       "<g style=\"fill:rgb(0%,0%,0%);fill-opacity:1;\">\n",
       "  <use xlink:href=\"#glyph1-6\" x=\"48.976571\" y=\"96.372\"/>\n",
       "</g>\n",
       "<g style=\"fill:rgb(0%,0%,0%);fill-opacity:1;\">\n",
       "  <use xlink:href=\"#glyph0-3\" x=\"53.953\" y=\"96.372\"/>\n",
       "</g>\n",
       "<g style=\"fill:rgb(0%,0%,0%);fill-opacity:1;\">\n",
       "  <use xlink:href=\"#glyph1-6\" x=\"56.721\" y=\"96.372\"/>\n",
       "  <use xlink:href=\"#glyph1-10\" x=\"61.7023\" y=\"96.372\"/>\n",
       "</g>\n",
       "<path style=\"fill:none;stroke-width:0.3985;stroke-linecap:butt;stroke-linejoin:miter;stroke:rgb(0%,0%,0%);stroke-opacity:1;stroke-miterlimit:10;\" d=\"M 149.800062 -6.400625 C 100.280531 -49.201406 67.964125 -69.635 9.889906 -95.213125 \" transform=\"matrix(1,0,0,-1,34.114,24.115)\"/>\n",
       "<path style=\" stroke:none;fill-rule:nonzero;fill:rgb(0%,0%,0%);fill-opacity:1;\" d=\"M 42.179688 120.132812 L 45.738281 120.304688 L 44.003906 119.328125 L 44.453125 117.386719 \"/>\n",
       "<g style=\"fill:rgb(0%,0%,0%);fill-opacity:1;\">\n",
       "  <use xlink:href=\"#glyph0-2\" x=\"159.428\" y=\"56.58\"/>\n",
       "</g>\n",
       "<g style=\"fill:rgb(0%,0%,0%);fill-opacity:1;\">\n",
       "  <use xlink:href=\"#glyph1-3\" x=\"164.44\" y=\"56.58\"/>\n",
       "</g>\n",
       "<g style=\"fill:rgb(0%,0%,0%);fill-opacity:1;\">\n",
       "  <use xlink:href=\"#glyph1-2\" x=\"170.923\" y=\"54.062\"/>\n",
       "</g>\n",
       "<g style=\"fill:rgb(0%,0%,0%);fill-opacity:1;\">\n",
       "  <use xlink:href=\"#glyph0-1\" x=\"168.314\" y=\"56.58\"/>\n",
       "</g>\n",
       "<g style=\"fill:rgb(0%,0%,0%);fill-opacity:1;\">\n",
       "  <use xlink:href=\"#glyph2-2\" x=\"177.405\" y=\"56.58\"/>\n",
       "</g>\n",
       "<g style=\"fill:rgb(0%,0%,0%);fill-opacity:1;\">\n",
       "  <use xlink:href=\"#glyph1-1\" x=\"180.173\" y=\"56.58\"/>\n",
       "  <use xlink:href=\"#glyph1-4\" x=\"187.92191\" y=\"56.58\"/>\n",
       "</g>\n",
       "</g>\n",
       "</svg>"
      ]
     },
     "metadata": {
      "isolated": "true"
     },
     "output_type": "display_data"
    }
   ],
   "source": [
    "%%tikz -l positioning -f svg\n",
    "  \\tikzset{every node/.append style={node distance=3cm and 5cm}}\n",
    "  \\tikzset{mynode/.append style={rectangle, draw}}\n",
    "  \\tikzset{myarrow/.append style={-stealth, bend left=3mm}}\n",
    "  \\node[mynode] (H) {$H$};\n",
    "  \\node[rectangle, draw, right=of H] (plus) {$+$};\n",
    "  \\node[rectangle, draw, below=of H] (H_) {$\\bar{H}$};\n",
    "  \\node[rectangle, draw] at (plus |- H_) (minus) {$-$};\n",
    "\n",
    "  \\draw (H)    edge[myarrow] node[above] {$p(+|H)=0.8$} (plus);\n",
    "  \\draw (plus) edge[myarrow] node[below] {$p(H|+)$} (H);\n",
    "\n",
    "  \\draw (H_)    edge[myarrow] node[above] {$p(-|\\bar{H})=0.98$} (minus);\n",
    "  \\draw (minus) edge[myarrow] node[below] {$p(\\bar{H}|-)$} (H_);\n",
    "\n",
    "  \\draw (H)    edge[myarrow] node[right, pos=0.8] {$p(-|H)=0.1$} (minus);\n",
    "  \\draw (minus) edge[myarrow] node[left, pos=0.8] {$p(H|-)$} (H);\n",
    "\n",
    "  \\draw (H_)    edge[myarrow] node[left, pos=0.2] {$p(+|\\bar{H})=0.02$} (plus);\n",
    "  \\draw (plus) edge[myarrow] node[right, pos=0.2] {$p(\\bar{H}|+)$} (H_);"
   ]
  },
  {
   "cell_type": "markdown",
   "id": "c5acaf86-4d98-4e49-90c4-4e3664906e69",
   "metadata": {},
   "source": [
    "Mr. Smith received a ticket, but claims that he did not violate the speed limit. What is the probability that he did not drive too fast, although the system detected him speeding?\n",
    "$$\n",
    "\\begin{align}\n",
    "p(H|+) &= \\frac{p(+|H) p(\\bar{H})}{p(+)} = \\frac{0.003}{0.768} \\approx 0.0039 &\n",
    "p(+) &= p(+|\\bar{H}) p(\\bar{H}) + p(+|H) p(H) = 0.02 \\cdot 0.15 + 0.9 \\cdot 0.95 = 0.768\n",
    "\\end{align} \n",
    "$$"
   ]
  },
  {
   "cell_type": "markdown",
   "id": "eddf7326-e496-4dc0-a124-7286a383d19b",
   "metadata": {},
   "source": [
    "Calculate the probability that a person who did not receive a ticket actually drove faster than allowed.\n",
    "$$\n",
    "\\begin{align}\n",
    "p(H|-) &= \\frac{p(-|H) p(\\bar{H}}{p(-)} = \\frac{0.085}{0.232} \\approx 0.366 &\n",
    "p(-) &= 1 - p(+) = 0.232\n",
    "\\end{align} \n",
    "$$"
   ]
  },
  {
   "cell_type": "markdown",
   "id": "5cb7d4a0-3114-4d73-878b-2d5d4434418a",
   "metadata": {},
   "source": [
    "## Detection\n",
    "\n",
    "An alarm system is connected to a circuit with a voltage of $1 \\mathrm{V}$. Usually, the circuit is intermittent so there is no voltage ($H_0$). \n",
    "In case of removal of an object, the circuit will be closed ($H_1$). \n",
    "The noise of the voltage measurement unit is normally distributed and zero-mean with a standard deviation of $\\sigma_n = 0.2 \\mathrm{V}$.\n",
    "If the voltage is higher than a threshold, an alarm is triggered."
   ]
  },
  {
   "cell_type": "markdown",
   "id": "fe81a044-0213-49b7-a0c7-b2e270270b33",
   "metadata": {},
   "source": [
    "Sketch the likelihood functions\n",
    "$$\n",
    "\\begin{align}\n",
    "  f_x(x | H_0) &= \\frac{1}{\\sqrt{2 \\pi \\sigma_n^2}} \\cdot \\exp \\left( -\\frac{(x - \\mu_0)^2}{2\\sigma_n^2} \\right) & \n",
    "  \\text{and} \\quad\n",
    "  f_x(x | H_1) &= \\frac{1}{\\sqrt{2 \\pi \\sigma_n^2}} \\cdot \\exp \\left( -\\frac{(x - \\mu_1)^2}{2\\sigma_n^2} \\right)\n",
    "\\end{align}\n",
    "$$\n",
    "with $\\mu_0=0 \\,\\mathrm{V}$ and $\\mu_0=1 \\,\\mathrm{V}$"
   ]
  },
  {
   "cell_type": "code",
   "execution_count": 47,
   "id": "e4ae030c-d612-4512-b7df-4ace7e69052b",
   "metadata": {},
   "outputs": [],
   "source": [
    "import numpy as np\n",
    "import matplotlib.pyplot as plt\n",
    "\n",
    "mu0 = 0\n",
    "mu1 = 1\n",
    "sigma = .2\n",
    "\n",
    "# to reset the ROC curves, uncomment this line\n",
    "# if 'ROC' in vars(): del ROC \n",
    "\n",
    "from scipy.stats import norm\n",
    "def f_x(x, mu, sigma):\n",
    "    # return np.sqrt(2 * np.pi * sigma**2)**-1 * np.exp(-(x-mu)**2/(2 * sigma**2))\n",
    "    return norm.pdf(x, mu, sigma)\n",
    "\n",
    "\n",
    "x = np.arange(-1,2,.01)\n",
    "y0 = f_x(x, mu0, sigma)\n",
    "y1 = f_x(x, mu1, sigma)"
   ]
  },
  {
   "cell_type": "code",
   "execution_count": 48,
   "id": "2c920874-2923-41f4-9e04-9b1d2241a58e",
   "metadata": {},
   "outputs": [
    {
     "data": {
      "text/plain": [
       "<matplotlib.legend.Legend at 0x7fa95e8ce620>"
      ]
     },
     "execution_count": 48,
     "metadata": {},
     "output_type": "execute_result"
    },
    {
     "data": {
      "image/png": "[encoded data removed]",
      "text/plain": [
       "<Figure size 640x480 with 1 Axes>"
      ]
     },
     "metadata": {},
     "output_type": "display_data"
    }
   ],
   "source": [
    "# plot the \n",
    "plt.plot(x, y0, color='blue', label='$f_x(x | H_0)$')\n",
    "# this fills in the color of the plot\n",
    "plt.fill_between(x, y0, interpolate=True,alpha=0.2)\n",
    "\n",
    "plt.plot(x,y1,color='red', label='$f_x(x | H_1)$')\n",
    "# this fills in the color of the plot\n",
    "plt.fill_between(x,y1,interpolate=True,alpha=0.2)\n",
    "\n",
    "plt.xlabel('Voltage (in V)')\n",
    "\n",
    "plt.legend()"
   ]
  },
  {
   "cell_type": "markdown",
   "id": "cc95b58e-d7a1-4e3e-b6ee-727c4e1adf5e",
   "metadata": {},
   "source": [
    "### Receiver-Operator Curves (ROC)\n",
    "To plot the _receiver-operator curve (ROC)_ of the alarm system, we need to simulate measurements and test different decision thresholds."
   ]
  },
  {
   "cell_type": "code",
   "execution_count": 49,
   "id": "e7a66967-61c5-43ed-8ca5-0883b5470e5b",
   "metadata": {},
   "outputs": [
    {
     "data": {
      "text/html": [
       "<div>\n",
       "<style scoped>\n",
       "    .dataframe tbody tr th:only-of-type {\n",
       "        vertical-align: middle;\n",
       "    }\n",
       "\n",
       "    .dataframe tbody tr th {\n",
       "        vertical-align: top;\n",
       "    }\n",
       "\n",
       "    .dataframe thead th {\n",
       "        text-align: right;\n",
       "    }\n",
       "</style>\n",
       "<table border=\"1\" class=\"dataframe\">\n",
       "  <thead>\n",
       "    <tr style=\"text-align: right;\">\n",
       "      <th></th>\n",
       "      <th>trial</th>\n",
       "      <th>signal_present</th>\n",
       "      <th>signal</th>\n",
       "      <th>response</th>\n",
       "    </tr>\n",
       "  </thead>\n",
       "  <tbody>\n",
       "    <tr>\n",
       "      <th>0</th>\n",
       "      <td>0</td>\n",
       "      <td>False</td>\n",
       "      <td>-0.060900</td>\n",
       "      <td>False</td>\n",
       "    </tr>\n",
       "    <tr>\n",
       "      <th>1</th>\n",
       "      <td>1</td>\n",
       "      <td>True</td>\n",
       "      <td>1.876708</td>\n",
       "      <td>True</td>\n",
       "    </tr>\n",
       "    <tr>\n",
       "      <th>2</th>\n",
       "      <td>2</td>\n",
       "      <td>True</td>\n",
       "      <td>2.038960</td>\n",
       "      <td>True</td>\n",
       "    </tr>\n",
       "    <tr>\n",
       "      <th>3</th>\n",
       "      <td>3</td>\n",
       "      <td>True</td>\n",
       "      <td>0.943114</td>\n",
       "      <td>True</td>\n",
       "    </tr>\n",
       "    <tr>\n",
       "      <th>4</th>\n",
       "      <td>4</td>\n",
       "      <td>True</td>\n",
       "      <td>2.120965</td>\n",
       "      <td>True</td>\n",
       "    </tr>\n",
       "  </tbody>\n",
       "</table>\n",
       "</div>"
      ],
      "text/plain": [
       "   trial  signal_present    signal  response\n",
       "0      0           False -0.060900     False\n",
       "1      1            True  1.876708      True\n",
       "2      2            True  2.038960      True\n",
       "3      3            True  0.943114      True\n",
       "4      4            True  2.120965      True"
      ]
     },
     "execution_count": 49,
     "metadata": {},
     "output_type": "execute_result"
    }
   ],
   "source": [
    "signal_present = np.random.rand(1000) > .5\n",
    "signal = np.random.normal(mu0, sigma, size=signal_present.size)\n",
    "signal[signal_present] = np.random.normal(2, 1, size=signal_present.sum())\n",
    "\n",
    "import pandas as pd\n",
    "df=pd.DataFrame({\"trial\": range(len(signal)), \"signal_present\": signal_present, \"signal\": signal})\n",
    "df['response'] = df.signal > .5\n",
    "df.head()"
   ]
  },
  {
   "cell_type": "code",
   "execution_count": 50,
   "id": "d75ab239-3d08-419b-93ff-fff1db47d941",
   "metadata": {},
   "outputs": [
    {
     "name": "stdout",
     "output_type": "stream",
     "text": [
      "Hit rate: 0.92\n",
      "Miss rate: 0.08\n",
      "False alarm rate: 0.00\n",
      "Correct rejection rate: 1.00\n"
     ]
    }
   ],
   "source": [
    "hit = df.response[df.signal_present]\n",
    "miss = ~df.response[df.signal_present]\n",
    "fa = df.response[~df.signal_present]\n",
    "cr = ~df.response[~df.signal_present]\n",
    "\n",
    "print(\"Hit rate: {:.2f}\".format(hit.mean()))\n",
    "print(\"Miss rate: {:.2f}\".format(miss.mean()))\n",
    "print(\"False alarm rate: {:.2f}\".format(fa.mean()))\n",
    "print(\"Correct rejection rate: {:.2f}\".format(cr.mean()))"
   ]
  },
  {
   "cell_type": "code",
   "execution_count": 51,
   "id": "ce64fe80-09a9-4d35-a304-86b83f159f1a",
   "metadata": {},
   "outputs": [
    {
     "name": "stdout",
     "output_type": "stream",
     "text": [
      "d prime: inf\n",
      "d prime: 3.78\n"
     ]
    }
   ],
   "source": [
    "from scipy import stats\n",
    "dprime = stats.norm.ppf(hit.mean()) - stats.norm.ppf(fa.mean())\n",
    "print(\"d prime: {:.2f}\".format(dprime))\n",
    "\n",
    "df['response'] = signal > 0.2\n",
    "\n",
    "hit = df.response[df.signal_present]\n",
    "fa = df.response[~df.signal_present]\n",
    "dprime = stats.norm.ppf(hit.mean()) - stats.norm.ppf(fa.mean())\n",
    "print(\"d prime: {:.2f}\".format(dprime))"
   ]
  },
  {
   "cell_type": "code",
   "execution_count": 52,
   "id": "6ef710b1-ee3d-402c-aee7-6ceb3ee59714",
   "metadata": {},
   "outputs": [
    {
     "name": "stdout",
     "output_type": "stream",
     "text": [
      "c: 0.15\n"
     ]
    }
   ],
   "source": [
    "c = -(stats.norm.ppf(hit.mean()) + stats.norm.ppf(fa.mean()))/2.0\n",
    "print(\"c: {:.2f}\".format(c))"
   ]
  },
  {
   "cell_type": "code",
   "execution_count": 53,
   "id": "5148950a-a8e4-4f25-9c36-60ca66b6db22",
   "metadata": {},
   "outputs": [
    {
     "name": "stdout",
     "output_type": "stream",
     "text": [
      "Signal mean +/- std: -0.00 (0.10)\n",
      "Noise mean +/- std: 1.00 (0.10)\n"
     ]
    }
   ],
   "source": [
    "N = 10000\n",
    "# signal = np.random.normal(mu0, sigma, n)\n",
    "# noise = np.random.normal(mu1, sigma, n)\n",
    "# signal = np.random.normal(mu0, sigma, n)\n",
    "# noise = np.random.normal(mu1, sigma, n)\n",
    "# y0 = f_x(x, mu0, sigma)\n",
    "# y1 = f_x(x, mu1, sigma)\n",
    "\n",
    "x0 = norm.rvs(mu0, sigma, N//2)\n",
    "x1 = norm.rvs(mu1, sigma, N//2)\n",
    "\n",
    "# adding some extra measurement noise?\n",
    "# x0 += norm.rvs(0, .25, len(x0))\n",
    "# x1 += norm.rvs(0, .25, len(x1))\n",
    "\n",
    "print(\"Signal mean +/- std: {:.2f} ({:.2f})\".format(x0.mean(), x0.std()))\n",
    "print(\"Noise mean +/- std: {:.2f} ({:.2f})\".format(x1.mean(), x1.std()))"
   ]
  },
  {
   "cell_type": "code",
   "execution_count": 54,
   "id": "cfc1eddb-6599-49c6-88c9-5fcbf577bd51",
   "metadata": {},
   "outputs": [
    {
     "data": {
      "text/plain": [
       "<matplotlib.legend.Legend at 0x7fa95e6b9180>"
      ]
     },
     "execution_count": 54,
     "metadata": {},
     "output_type": "execute_result"
    },
    {
     "data": {
      "image/png": "[encoded data removed]",
      "text/plain": [
       "<Figure size 640x480 with 1 Axes>"
      ]
     },
     "metadata": {},
     "output_type": "display_data"
    },
    {
     "data": {
      "image/png": "[encoded data removed]",
      "text/plain": [
       "<Figure size 640x480 with 1 Axes>"
      ]
     },
     "metadata": {},
     "output_type": "display_data"
    }
   ],
   "source": [
    "# plot the \n",
    "plt.plot(x, y0, color='red', label='$H_0$')\n",
    "# this fills in the color of the plot\n",
    "plt.fill_between(x, y0, interpolate=True, color='blue', alpha=0.2)\n",
    "\n",
    "plt.plot(x, y1, color='blue', label='$H_1$')\n",
    "# this fills in the color of the plot\n",
    "plt.fill_between(x, y1,interpolate=True, color='red', alpha=0.2)\n",
    "\n",
    "plt.plot(x0, -.1*np.ones(len(x0)), 'o', color='blue', alpha=np.sqrt(1./N))\n",
    "plt.plot(x1, -.1*np.ones(len(x1)), 'o', color='red', alpha=np.sqrt(1./N))\n",
    "plt.legend()\n",
    "\n",
    "plt.figure()\n",
    "import seaborn as sns\n",
    "sns.histplot(x0, color=\"blue\", alpha=.5, label=\"$H_0$ samples\")\n",
    "sns.histplot(x1, color=\"red\", alpha=.5, label=\"$H_1$ samples\")\n",
    "plt.legend()"
   ]
  },
  {
   "cell_type": "markdown",
   "id": "ac1cd74b-45e8-4678-aba1-3b46a5b9b4ab",
   "metadata": {},
   "source": [
    "The ROC visualizes the trade-off between having small false-alarm rates _vs._ high hit rates. The optimal case would result in a perfectly sharp rectangle corner curve."
   ]
  },
  {
   "cell_type": "code",
   "execution_count": 55,
   "id": "4785bbd5-6f6c-498b-91b0-9b95df93fbbe",
   "metadata": {},
   "outputs": [
    {
     "data": {
      "text/plain": [
       "<matplotlib.legend.Legend at 0x7fa95e80f220>"
      ]
     },
     "execution_count": 55,
     "metadata": {},
     "output_type": "execute_result"
    },
    {
     "data": {
      "image/png": "[encoded data removed]",
      "text/plain": [
       "<Figure size 640x480 with 1 Axes>"
      ]
     },
     "metadata": {},
     "output_type": "display_data"
    }
   ],
   "source": [
    "criterions = np.linspace(-3, 3, 100)\n",
    "\n",
    "hit_rates = [(x1 > c).mean() for c in criterions]\n",
    "fa_rates = [(x0 > c).mean() for c in criterions]\n",
    "\n",
    "# remember ROCs for different sigmas\n",
    "if 'ROC' not in vars(): ROC = dict()\n",
    "ROC[sigma] = (hit_rates, fa_rates)\n",
    "\n",
    "for s, (h, f) in sorted(ROC.items()):\n",
    "    plt.plot(f, h, label=f\"$\\sigma_n={s}$\")\n",
    "plt.plot([0, 1], [0, 1], ls=\"--\", c=\".5\", label='random guess')\n",
    "plt.gca().set(xlabel=\"FA Rate\", ylabel=\"Hit Rate\")\n",
    "plt.legend()"
   ]
  },
  {
   "cell_type": "markdown",
   "id": "aab594ad-9314-4855-aa45-3c0d51dc49b0",
   "metadata": {},
   "source": [
    "### Influence of (process or measurement) noise\n",
    "If you jump [back](#Detection) to where we defined the distribution parameters and change the noise standard deviation $\\sigma_n$, multiple ROCs will be plotted against each other when you re-run the code."
   ]
  },
  {
   "cell_type": "markdown",
   "id": "25247207-ba59-4131-b2bd-f7257b30deb5",
   "metadata": {},
   "source": [
    "### Optimal Thresholds\n",
    "If we assuming equal prior probabilities, we can choose an optimum threshold using the Bayesian decision rule, i.e., we want to decide for $H_1$ if the log-ratio\n",
    "$$\n",
    "  \\Lambda(x) = \\frac{f_x(x | H_1)}{f_x(x | H_0)} > 1\n",
    "$$\n",
    "    \n",
    "$$\n",
    "\\begin{align*}\n",
    "  && \\Delta(x^*) &= 1 \\\\\n",
    "  \\Leftrightarrow  && \n",
    "  \\frac{1}{\\sqrt{2 \\pi \\sigma_n^2}} \\cdot \\exp \\left( -\\frac{(x^* - \\mu_1)^2}{2\\sigma_n^2} \\right) &=\n",
    "  \\frac{1}{\\sqrt{2 \\pi \\sigma_n^2}} \\cdot \\exp \\left( -\\frac{(x^* - \\mu_0)^2}{2\\sigma_n^2} \\right) \\\\\n",
    "  \\Leftrightarrow  && \n",
    "  \\left( x^* - \\mu_1 \\right)^2 &= \\left( x^* - \\mu_0 \\right)^2 \\\\\n",
    "  \\Leftrightarrow  && \n",
    "  {x^*}^2 - 2\\mu_1 x^* + \\mu_1^2 &= {x^*}^2 - 2\\mu_0 x^* + \\mu_0^2 \\\\\n",
    "  \\Leftrightarrow  && \n",
    "  2x^* \\left( \\mu_0 - \\mu_1 \\right) &= \\mu_0^2 - \\mu_1^2 \\\\\n",
    "  \\Leftrightarrow  && \n",
    "  x^* &= \\frac{\\mu_0 + \\mu_1}{2}\n",
    "\\end{align*}\n",
    "$$"
   ]
  },
  {
   "cell_type": "code",
   "execution_count": 56,
   "id": "1f5fd821-f064-43bc-97de-035b04be14d0",
   "metadata": {},
   "outputs": [
    {
     "data": {
      "text/latex": [
       "Given our current distribution parameters, this gives us the optimal threshold of $x^* = 0.5$"
      ],
      "text/plain": [
       "<IPython.core.display.Latex object>"
      ]
     },
     "metadata": {},
     "output_type": "display_data"
    }
   ],
   "source": [
    "# print(rf'$x^* = {(\\mu_0 + \\mu_1)/2.}$')\n",
    "display(Latex(f'Given our current distribution parameters, this gives us the optimal threshold of $x^* = {(mu0 + mu1)/2.}$'))"
   ]
  },
  {
   "cell_type": "markdown",
   "id": "45143ea9-43ab-40db-86a9-8f9314e6e6aa",
   "metadata": {},
   "source": [
    "### Influence of Standard Deviation\n",
    "\n",
    "As you see, this optimal threshold $x^*$ is independent from the standard deviation $\\sigma_n$ when infered from the Bayesian decision rule. \n",
    "\n",
    "If you use the Neyman-Paerson test, you have to maximize $P_D$ considering that $P_F \\leq \\alpha$:\n",
    "$$\n",
    "\\begin{align}\n",
    "  \\Lambda(x) &\\stackrel{H_1}{>} \\gamma &\\text{with}&& P_f &= \\int_{x, \\Delta{x} > \\gamma}\\limits f_x(x | H_0) \\,\\mathrm{d}x = \\alpha \\quad .\n",
    "\\end{align}\n",
    "$$\n",
    "Apparently, this derivation now depends on the standard deviation, such that the threshold $x^*$ or the parameter $\\alpha$ needs to be updated."
   ]
  },
  {
   "cell_type": "code",
   "execution_count": 57,
   "id": "6ba3b970-3c35-4871-bb51-d7fc4aaaf16b",
   "metadata": {},
   "outputs": [],
   "source": [
    "P0, P1 = 0.9, 0.1\n",
    "C01, C10 = 2, 5"
   ]
  },
  {
   "cell_type": "markdown",
   "id": "2df15801-f9e4-428c-8874-cd150cd94cbd",
   "metadata": {},
   "source": [
    "### Prior Probabilities\n",
    "\n",
    "We can now introduce some prior probabilities for the events, i.e., $P_0 = P(H_0)$ and $P_1 = P(H_1)$ for the cases that nothing happens or an object needs to be removed, respectively. We initially set these probabilities to $P_0=0.9$ and $P_1=0.1$."
   ]
  },
  {
   "cell_type": "code",
   "execution_count": 58,
   "id": "36f3f47e-ce84-41f7-8342-8c9cd3158fea",
   "metadata": {},
   "outputs": [
    {
     "data": {
      "text/latex": [
       "From that, we define $C_{01}=2$ and $C_{10}=5$ for false alarms and missed hits, respectively. Correct classifications should not incur any costs, i.e., $C_{00} = C_{11} = 0$."
      ],
      "text/plain": [
       "<IPython.core.display.Latex object>"
      ]
     },
     "metadata": {},
     "output_type": "display_data"
    }
   ],
   "source": [
    "display(Latex(f'From that, we define $C_{{01}}={C01}$ and $C_{{10}}={C10}$ for false alarms and missed hits, respectively. Correct classifications should not incur any costs, i.e., $C_{{00}} = C_{{11}} = 0$.'))"
   ]
  },
  {
   "cell_type": "markdown",
   "id": "3e6e3813-8f1a-4b6f-96a1-aff44801e4a1",
   "metadata": {},
   "source": [
    "With that, we can now infer a new appropriate threshold that minimized these accumulated costs:\n",
    "\n",
    "$$\n",
    "\\begin{align*}\n",
    "  &&\n",
    "  \\Lambda(x) = \\frac{f_x(x | H_1)}{f_x(x | H_0)} &\\stackrel{H_1}{>} \\frac{C_{01} - C_{00}}{C_{10} - C_{11}} \\cdot \\frac{P_0}{P_1} \\\\\n",
    "  \\Leftrightarrow  && \n",
    "  C_{01} P_0 f_x(x | H_0) &= C_{10} P_1 f_x(x | H_1) \\\\\n",
    "  \\Leftrightarrow  && \n",
    "  C_{01} P_0 f_x(x | H_0) \\frac{1}{\\sqrt{2 \\pi \\sigma_n^2}} \\cdot \\exp \\left( -\\frac{(x^* - \\mu_1)^2}{2\\sigma_n^2} \\right)\n",
    "  &= \n",
    "  C_{10} P_1 f_x(x | H_1) \\frac{1}{\\sqrt{2 \\pi \\sigma_n^2}} \\cdot \\exp \\left( -\\frac{(x^* - \\mu_1)^2}{2\\sigma_n^2} \\right) \\\\\n",
    "  \\Leftrightarrow  && \n",
    "  -\\frac{(x^* - \\mu_0)^2}{2\\sigma_n^2} + \\frac{(x^* - \\mu_1)^2}{2\\sigma_n^2} &=\n",
    "  \\ln \\left( C_{10} P_1 \\right) - \\ln \\left( C_{01} P_0 \\right) \\\\\n",
    "  \\Leftrightarrow  && \n",
    "  -\\left( {x^*}^2 -2 x^* \\mu_0 + \\mu_0^2 \\right) + -\\left( {x^*}^2 -2 x^* \\mu_1 + \\mu_1^2 \\right) &= 2\\sigma_n^2 \\left( \\ln \\left( C_{10} P_1 \\right) - \\ln \\left( C_{01} P_0 \\right) \\right) \\\\\n",
    "  \\Leftrightarrow  && \n",
    "  2x^* \\left( \\mu_0 - \\mu_1 \\right) &= 2\\sigma_n^2 \\left( \\ln \\left( C_{10} P_1 \\right) - \\ln \\left( C_{01} P_0 \\right) \\right) + \\left( \\mu_0^2 - \\mu_1^2 \\right) \\\\\n",
    "  \\Leftrightarrow  && \n",
    "  x^* &= \\frac{2\\sigma_n^2 \\left( \\ln \\left( C_{10} P_1 \\right) - \\ln \\left( C_{01} P_0 \\right) \\right)}{\\mu_0 - \\mu_1} + \\frac{\\mu_0 + \\mu_1}{2}\n",
    "\\end{align*}\n",
    "$$"
   ]
  },
  {
   "cell_type": "code",
   "execution_count": 59,
   "id": "a6180238-72b5-419e-bb1d-9bf81292ad11",
   "metadata": {},
   "outputs": [
    {
     "data": {
      "text/latex": [
       "Given our current model parameters and costs, this gives us the optimal threshold of $x^* = 0.53$"
      ],
      "text/plain": [
       "<IPython.core.display.Latex object>"
      ]
     },
     "metadata": {},
     "output_type": "display_data"
    }
   ],
   "source": [
    "x_ = sigma**2 * (np.log(C01 * P1) - np.log(C10 * P0))/(mu0 - mu1) + (mu0 + mu1)/2.\n",
    "display(Latex(f'Given our current model parameters and costs, this gives us the optimal threshold of $x^* = {x_:0.2f}$'))"
   ]
  },
  {
   "cell_type": "code",
   "execution_count": 60,
   "id": "5c41384f-f8aa-41cb-adff-e2eabfa81fce",
   "metadata": {},
   "outputs": [
    {
     "data": {
      "text/latex": [
       "Given our current model parameters and costs, this gives us the optimal threshold of "
      ],
      "text/plain": [
       "<IPython.core.display.Latex object>"
      ]
     },
     "metadata": {},
     "output_type": "display_data"
    },
    {
     "data": {
      "text/latex": [
       "$x^*_{\\sigma_n=0.1} = 0.51$"
      ],
      "text/plain": [
       "<IPython.core.display.Latex object>"
      ]
     },
     "metadata": {},
     "output_type": "display_data"
    },
    {
     "data": {
      "text/latex": [
       "$x^*_{\\sigma_n=0.2} = 0.55$"
      ],
      "text/plain": [
       "<IPython.core.display.Latex object>"
      ]
     },
     "metadata": {},
     "output_type": "display_data"
    },
    {
     "data": {
      "text/latex": [
       "$x^*_{\\sigma_n=0.5} = 0.82$"
      ],
      "text/plain": [
       "<IPython.core.display.Latex object>"
      ]
     },
     "metadata": {},
     "output_type": "display_data"
    },
    {
     "data": {
      "text/latex": [
       "$x^*_{\\sigma_n=1} = 1.78$"
      ],
      "text/plain": [
       "<IPython.core.display.Latex object>"
      ]
     },
     "metadata": {},
     "output_type": "display_data"
    }
   ],
   "source": [
    "display(Latex(f'Given our current model parameters and costs, this gives us the optimal threshold of '))\n",
    "for s in sorted(ROC.keys()): \n",
    "    x_ = s**2 * (np.log(C10 * P1) - np.log(C01 * P0))/(mu0 - mu1) + (mu0 + mu1)/2.\n",
    "    display(Latex(f'$x^*_{{\\sigma_n={s}}} = {x_:0.2f}$'))"
   ]
  }
 ],
 "metadata": {
  "kernelspec": {
   "display_name": "Python 3 (ipykernel)",
   "language": "python",
   "name": "python3"
  },
  "language_info": {
   "codemirror_mode": {
    "name": "ipython",
    "version": 3
   },
   "file_extension": ".py",
   "mimetype": "text/x-python",
   "name": "python",
   "nbconvert_exporter": "python",
   "pygments_lexer": "ipython3",
   "version": "3.10.8"
  }
 },
 "nbformat": 4,
 "nbformat_minor": 5
}
