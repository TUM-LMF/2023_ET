{
 "cells": [
  {
   "cell_type": "code",
   "execution_count": 1,
   "id": "8814a84a-d556-461b-8d9e-4b1357a411e1",
   "metadata": {},
   "outputs": [],
   "source": [
    "# Required packages\n",
    "# !pip install git+https://github.com/mkrphys/ipython-tikzmagic.git\n",
    "%load_ext tikzmagic\n",
    "\n",
    "#pip install jupyterlab_markup\n",
    "# or\n",
    "#conda install -c conda-forge jupyterlab-markup\n",
    "\n",
    "from IPython.display import display, Latex, Markdown\n",
    "\n",
    "# !conda install sympy\n",
    "from sympy import Matrix, latex, print_latex, init_printing\n",
    "init_printing()"
   ]
  },
  {
   "cell_type": "markdown",
   "id": "427a9259-c972-4ace-a405-a2ec854bcba0",
   "metadata": {},
   "source": [
    "# Estimation Theory\n",
    "\n",
    "or \n",
    "\n",
    "# Remote Sensing Data"
   ]
  },
  {
   "cell_type": "markdown",
   "id": "79dc3047-111d-44cc-b0da-42694148a0e1",
   "metadata": {},
   "source": [
    "## Parameter Estimation"
   ]
  },
  {
   "cell_type": "markdown",
   "id": "2e4315fa-5edd-4b03-b517-88dbbbd5587f",
   "metadata": {},
   "source": [
    "The likelihood function of a random variable $x$ is given as \n",
    "$$\n",
    "\\begin{align*}\n",
    "  f_y(y \\mid x) = \\frac{x}{y^2} \\cdot \\exp \\left( -\\frac{x^2}{2y^2} \\right)\n",
    "  &&\\text{for}&& x &> 0 &&\\text{and}& y &\\neq 0\n",
    "\\end{align*}\n",
    "$$"
   ]
  },
  {
   "cell_type": "markdown",
   "id": "53677937-58c5-484f-a555-8c68fe182160",
   "metadata": {},
   "source": [
    "With that information, we can compute the _maximum-likelihood estimate (MLE)_ $\\hat{x}_\\text{MLE}$ by letting the gradient of $f_y$ vanish at that point:\n",
    "\n",
    "$$\n",
    "\\begin{align*}\n",
    "  \\frac{\\partial}{\\partial x} f_y(y \\mid x) \\stackrel{!}{=} 0 &= \\frac{1}{y^2} \\exp \\left( -\\frac{x^2}{2y^2} \\right) + \\frac{x}{y^2} \\exp \\left( -\\frac{x^2}{2y^2} \\right) \\cdot \\frac{-2x}{2x^2} \\\\\n",
    "  0 &= \\left( \\frac{1}{y^2} - \\frac{2x^2}{2y^2} \\right) \\cdot \\exp \\left( -\\frac{x^2}{2y^2} \\right) \\\\\n",
    "  \\Leftrightarrow  \\quad \n",
    "  0 &= \\frac{1}{y^2} - \\frac{2x^2}{2y^4} \\\\\n",
    "  \\Leftrightarrow  \\quad \n",
    "  x^2 &= y^2 \\\\\n",
    "  \\Rightarrow  \\quad \n",
    "  \\hat{x}_\\text{MLE} &= \n",
    "  \\begin{cases} \n",
    "    y & \\text{if}\\quad y > 0 \\\\\n",
    "    -y& \\text{else} \n",
    "  \\end{cases}\n",
    "\\end{align*}\n",
    "$$"
   ]
  },
  {
   "cell_type": "markdown",
   "id": "3e7f97be-200e-442d-9292-95ef7bce65fb",
   "metadata": {},
   "source": [
    "If we have access to further information about the data distribution, e.g.,\n",
    "$$\n",
    "\\begin{align*}\n",
    "  f_x(x) &= \\frac{x}{x_0^2} \\cdot \\exp \\left( -\\frac{x^2}{2x_0^2} \\right)\\;,\n",
    "\\end{align*}\n",
    "$$\n",
    "we can infer the optimal parameter $\\hat{x}_\\text{MAP} = \\operatorname{arg max}_x f_x(x \\mid y)$ through _maximun a-priori (MAP)_ estimation through\n",
    "$$\n",
    "\\begin{align*}\n",
    "  f_x\\left(x \\mid y\\right) \\propto f_y\\left(y \\mid x\\right) \\cdot f_x\\left(x\\right) &=\n",
    "  \\frac{x}{y^2} \\cdot \\exp \\left( -\\frac{x^2}{2y^2} \\right) \\cdot \\frac{x}{x_0^2} \\cdot \\exp \\left( -\\frac{x^2}{2x_0^2} \\right) \\\\\n",
    "  &= \\frac{x^2}{x_0^2 y^2} \\cdot \\exp \\left( x^2 \\left( -\\frac{1}{2y^2} - \\frac{1}{2x_0^2} \\right) \\right)\n",
    "\\end{align*}\n",
    "$$\n",
    "Again, the derivative of that objective needs to vanish, i.e.,\n",
    "$$\n",
    "\\begin{align*}\n",
    "  \\frac{\\partial}{\\partial x} f_x\\left(x \\mid y\\right) \\stackrel{!}{=} 0 &=\n",
    "  \\frac{2x}{x_0^2y^2} \\cdot \\exp \\left( x^2 \\left( -\\frac{1}{2y^2} - \\frac{1}{2x_0^2} \\right) \\right) +\n",
    "  \\frac{x^2}{x_0^2 y^2} \\cdot \\exp \\left( x^2 \\left( -\\frac{1}{2y^2} - \\frac{1}{2x_0^2} \\right) \\right) 2x \\left( -\\frac{1}{2y^2} - \\frac{1}{2x_0^2} \\right) \\\\\n",
    "  0 &= \\exp \\left( x^2 \\left( -\\frac{1}{2y^2} - \\frac{1}{2x_0^2} \\right) \\right) \\cdot\n",
    "  \\left( \\frac{2x}{x_0^2 y^2} + \\frac{x^2}{x_0^2 y^2} \\cdot 2x \\left( -\\frac{1}{2y^2} - \\frac{1}{2x_0^2} \\right) \\right) \\\\\n",
    "  \\Leftrightarrow\\quad \\frac{2x^3}{x_0^2 y^2} \\left( -\\frac{1}{2y^2} - \\frac{1}{2x_0^2} \\right) &= -\\frac{2x}{x_0^2 y^2} \\\\\n",
    "  x^2 \\left( -\\frac{1}{2y^2} - \\frac{1}{2x_0^2} \\right) &= -1 \\\\\n",
    "  \\hat{x}_\\text{MAP} &= \\sqrt{ \\frac{2 x_0^2 y^2}{x_0^2 + y^2} }\n",
    "\\end{align*}\n",
    "$$"
   ]
  },
  {
   "cell_type": "markdown",
   "id": "3707071f-3b04-49c2-8b63-ea503561b8e7",
   "metadata": {},
   "source": [
    "## Optimal Estimation"
   ]
  },
  {
   "cell_type": "markdown",
   "id": "424d56c5-899a-49fb-886c-c80d54916daa",
   "metadata": {},
   "source": [
    "### Least-Squares Estimation\n",
    "\n",
    "Let assume we have vectorized measurments $z = K x + \\varepsilon$ that is corrupted by iid. white noise $\\varepsilon$.\n",
    "The goal now is to infer an estimate that minimizes the square of the residuals, i.e.\n",
    "$$\n",
    "  \\hat{x} = \\left( K^\\top K \\right)^{-1} K^\\top z \\quad .\n",
    "$$\n",
    "During an experiment a system parameter $a$ of an object is measured by two independent and unbiased instruments through\n",
    "$$\n",
    "\\begin{align*}\n",
    "  z_1 &= a + \\varepsilon_1 & \\text{and}&& z_2 &= a + \\varepsilon_2\n",
    "\\end{align*}\n",
    "$$\n",
    "which are corrupted by normal-distrubuted noise $\\varepsilon_1$ and $\\varepsilon_2$ with variances $\\sigma_1^2$ and $\\sigma_2^2$, respectively.\n",
    "\n",
    "To find a least-squares estimate of $a$, we prepare some concatenated data structures, i.e.,\n",
    "$$\n",
    "\\begin{align*}\n",
    "  C_{\\varepsilon\\varepsilon} &= \\begin{bmatrix} \\sigma_1^2 & 0 \\\\ 0 & \\sigma_2^2 \\end{bmatrix} &\n",
    "  C_{\\varepsilon\\varepsilon}^{-1} &= \\begin{bmatrix} \\sigma_1^{-2} & 0 \\\\ 0 & \\sigma_2^{-2} \\end{bmatrix} &\n",
    "  z &= \\begin{bmatrix} z_1 \\\\ z_2 \\end{bmatrix} &\n",
    "  K &= \\begin{bmatrix} 1 \\\\ 1 \\end{bmatrix} &\n",
    "  \\varepsilon &= \\begin{bmatrix} \\varepsilon_1 \\\\ \\varepsilon_2 \\end{bmatrix} \n",
    "\\end{align*}\n",
    "$$\n",
    "\n",
    "Then, we can plug everything together to obtain our objective\n",
    "$$\n",
    "\\begin{align*}\n",
    "  \\hat{a} &= \\left( K^\\top C_{\\varepsilon\\varepsilon}^{-1} K \\right)^{-1} K^\\top C_{\\varepsilon\\varepsilon}^{-1} \\\\\n",
    "  &= \\left( \\sigma_1^{-2} + \\sigma_2^{-2} \\right)^{-1} \\cdot \\left( \\sigma_1^{-2} z_1 + \\sigma_2^{-2} z_2 \\right) \\\\\n",
    "  &= \\frac{\\sigma_2^2}{\\sigma_1^2 + \\sigma_2^2} z_1 + \\frac{\\sigma_1^2}{\\sigma_1^2 + \\sigma_2^2} z_2\n",
    "\\end{align*}\n",
    "$$\n",
    "\n",
    "As we assume the noise component $\\varepsilon$ to be iid., the variances are all equal and the objective simplifies to\n",
    "$$\n",
    "  \\hat{a} = \\frac{z_1 + z_2}{2}\n",
    "$$"
   ]
  },
  {
   "cell_type": "markdown",
   "id": "3454def3-5494-4805-be60-a7cb0313862f",
   "metadata": {},
   "source": [
    "### Foo\n",
    "\n",
    "The vectorized velocity $\\dot{d} = (dx, dy)$ of a moving target $T$ is measured by a radar sensor. However, the system can only measure the velocity $(\\dot{r_1}, \\dot{r_2})$ projected to viewing direction $\\phi$ of the sensor.\n",
    "\n",
    "For different measurements, the viewing directions $\\phi_i, i \\in \\{ 1,2,3 \\},$ are known and should be considered as a part of the model. \n",
    "The task is to estimate the velocity $\\widehat{d} = \\left( \\widehat{dx}, \\widehat{dy} \\right)$ of the moving target by minimizing the sum of squared residuals."
   ]
  },
  {
   "cell_type": "markdown",
   "id": "7627333b-a8f0-41ba-8817-37d084f7cc86",
   "metadata": {},
   "source": [
    "First, we can obtain the elements of the matrix $K$ to estimate the velocity vector $\\widehat{d} = \\left( \\widehat{dx}, \\widehat{dy} \\right)$ under the assumption of having only white noise corrupted the measurement:\n",
    "\n",
    "$$\n",
    "\\begin{align*}\n",
    "  r &= \\begin{bmatrix} r_1 \\\\ r_2 \\end{bmatrix} &\n",
    "  K &= \\begin{bmatrix} \\sin \\phi_1 & -\\cos \\phi_1 \\\\ \\sin \\phi_2 & -\\cos \\phi_2 \\end{bmatrix} &\n",
    "  d &= \\begin{bmatrix} dx \\\\ dy \\end{bmatrix}\n",
    "\\end{align*}\n",
    "$$\n",
    "\n",
    "With that, we can compute the estimate via\n",
    "$$\n",
    "\\begin{align*}\n",
    "  \\widehat{d} &= \\left( K^\\top K \\right)^{-1} K^\\top r\n",
    "\\end{align*}\n",
    "$$"
   ]
  },
  {
   "cell_type": "markdown",
   "id": "b77fd062-9951-48a2-a1fb-1c754f151596",
   "metadata": {},
   "source": [
    "## Kalman Filter"
   ]
  },
  {
   "cell_type": "markdown",
   "id": "9dca66c3-1d79-4bf2-8a7e-e01916162c93",
   "metadata": {},
   "source": [
    "An object is moving with the constant acceleration $\\dot{a}$. \n",
    "At every time step $t-1$, the state\n",
    "$$\n",
    "  x_{t-1} = \\begin{bmatrix} p_{t-1} \\\\ v_{t-1} \\\\ \\dot{a} \\end{bmatrix}\n",
    "$$\n",
    "of that object is given by its position $p_{t-1}$ and velocity $v_{t-1}$.\n",
    "\n",
    "The transition from state $x_{t-1}$ to $x_t$ can be modeled by the _state transition function_\n",
    "$$\n",
    "  x_t = M_t x_{t-1} + w_t\n",
    "$$\n",
    "with noise component $w_t$.\n",
    "\n",
    "Given the previous information, we can derive an explicit physical formulation of the that model.\n",
    "With every time step, the position and velocity of the object will be updated, i.e.,\n",
    "$$\n",
    "\\begin{align*}\n",
    "  p_t &= p_{t-1} + v_{t-1} \\cdot \\Delta t + \\frac{\\dot{a} \\Delta \\cdot t^2}{2} \\\\\n",
    "  v_t &= v_{t-1} + \\dot{a} \\cdot \\Delta t\n",
    "\\end{align*}\n",
    "$$\n",
    "Thus, the linear state transition function can be formulated as\n",
    "$$\n",
    "  M_T = \n",
    "  \\begin{bmatrix}\n",
    "    1 & \\Delta t & \\frac{\\Delta t^2}{2} \\\\\n",
    "    0 & 1 & \\Delta t \\\\\n",
    "    0 & 0 & 1\n",
    "  \\end{bmatrix}\n",
    "$$"
   ]
  },
  {
   "cell_type": "markdown",
   "id": "d402f9d2-38cc-4b9e-b194-99b5a7df5fef",
   "metadata": {},
   "source": [
    "### Practical Demo\n",
    "\n",
    "Suppose we measure the position of a car after every 0.1 seconds. \n",
    "However, our measurements are corrupted by white Gaussian noise with zero mean and standard deviation $\\sigma_\\varepsilon = 1$.\n",
    "Assuming that the car at time $t = 0$ was initially at position 0 with velocity that\n",
    "equals to 25% of the real constant velocity of $5\\, \\mathrm{m}/\\mathrm{s}$.\n",
    "\n",
    "We can use a Kalman filter predict and estimate the state $x_t$ (position/velocity) of the car after $t = 5\\, \\mathrm{s}$. \n",
    "Here we assume that the constant velocity model is perfect (i.e., no process noise) and initial prior covariance matrix $C_{\\hat{x}\\hat{x}} = C_{\\varepsilon\\varepsilon}$.\n",
    "\n",
    "Again, we prepare the state vectors and transition matrices:\n",
    "$$\n",
    "\\begin{align*}\n",
    "  M_t &= \\begin{bmatrix} 1 & 0.1 \\\\ 0 & 1 \\end{bmatrix}\n",
    "  &\n",
    "  \\hat{x}_t &= \\begin{bmatrix} 0 \\\\ 1.25 \\end{bmatrix}\n",
    "  &\n",
    "  C_{\\hat{x}\\hat{x}} &= \\begin{bmatrix} 1 & 0 \\\\ 0 & 1 \\end{bmatrix}\n",
    "  &\n",
    "  C_{ww} &= \\begin{bmatrix} 0 & 0 \\\\ 0 & 0 \\end{bmatrix}\n",
    "  &\n",
    "  K &= \\begin{bmatrix} 1 \\\\ 0 \\end{bmatrix}\n",
    "  &\n",
    "  C_{\\varepsilon\\varepsilon} &= \\begin{bmatrix} 1 \\end{bmatrix}\n",
    "\\end{align*}\n",
    "$$"
   ]
  },
  {
   "cell_type": "code",
   "execution_count": 2,
   "id": "f68a111f-692a-4cc4-b94d-98f2aeee69aa",
   "metadata": {},
   "outputs": [],
   "source": [
    "import numpy as np\n",
    "import matplotlib.pyplot as plt"
   ]
  },
  {
   "cell_type": "code",
   "execution_count": 3,
   "id": "fcc0d1f1-d865-4ddf-8050-ed95e0f0a7b9",
   "metadata": {},
   "outputs": [],
   "source": [
    "class KalmanFilter(object):\n",
    "    def __init__(self, F = None, B = None, H = None, Q = None, R = None, P = None, x0 = None):\n",
    "\n",
    "        if(F is None or H is None):\n",
    "            raise ValueError(\"Set proper system dynamics.\")\n",
    "\n",
    "        self.n = F.shape[1]\n",
    "        self.m = H.shape[1]\n",
    "\n",
    "        self.F = F\n",
    "        self.H = H\n",
    "        self.B = 0 if B is None else B\n",
    "        self.Q = np.eye(self.n) if Q is None else Q\n",
    "        self.R = np.eye(self.n) if R is None else R\n",
    "        self.P = np.eye(self.n) if P is None else P\n",
    "        self.x = np.zeros((self.n, 1)) if x0 is None else x0\n",
    "\n",
    "    def predict(self, u = 0):\n",
    "        self.x = np.dot(self.F, self.x) + np.dot(self.B, u)\n",
    "        self.P = np.dot(np.dot(self.F, self.P), self.F.T) + self.Q\n",
    "        return self.x\n",
    "\n",
    "    def update(self, z):\n",
    "        y = z - np.dot(self.H, self.x)\n",
    "        S = self.R + np.dot(self.H, np.dot(self.P, self.H.T))\n",
    "        K = np.dot(np.dot(self.P, self.H.T), np.linalg.inv(S))\n",
    "        self.x = self.x + np.dot(K, y)\n",
    "        I = np.eye(self.n)\n",
    "        self.P = np.dot(np.dot(I - np.dot(K, self.H), self.P), \n",
    "                        (I - np.dot(K, self.H)).T) + np.dot(np.dot(K, self.R), K.T)"
   ]
  },
  {
   "cell_type": "code",
   "execution_count": 4,
   "id": "052c6c03-2bb7-421d-8c1c-ee3060520ba1",
   "metadata": {},
   "outputs": [
    {
     "data": {
      "text/markdown": [
       "Again, we prepare the state vectors and transition matrices:"
      ],
      "text/plain": [
       "<IPython.core.display.Markdown object>"
      ]
     },
     "metadata": {},
     "output_type": "display_data"
    },
    {
     "data": {
      "text/latex": [
       "\\begin{align*}   M   &= \\left[\\begin{matrix}1.0 & 0.1 & 0\\\\0 & 1.0 & 0.1\\\\0 & 0 & 1.0\\end{matrix}\\right] & H   &= \\left[\\begin{matrix}1 & 0 & 0\\end{matrix}\\right] \\\\  Q   &= \\left[\\begin{matrix}0.05 & 0.05 & 0\\\\0.05 & 0.05 & 0\\\\0 & 0 & 0\\end{matrix}\\right] & R   &= \\left[\\begin{matrix}0.5\\end{matrix}\\right] \\\\  x_0 &= \\left[\\begin{matrix}0\\\\1.25\\\\0\\end{matrix}\\right] \\\\\\end{align*}"
      ],
      "text/plain": [
       "<IPython.core.display.Latex object>"
      ]
     },
     "metadata": {},
     "output_type": "display_data"
    }
   ],
   "source": [
    "dt = .1\n",
    "F = np.array([[1, dt, 0], \n",
    "              [0, 1, dt], \n",
    "              [0, 0, 1]])\n",
    "H = np.array([1, 0, 0]).reshape(1, 3)\n",
    "Q = np.array([[0.05, 0.05, 0.0], \n",
    "              [0.05, 0.05, 0.0], \n",
    "              [0.0, 0.0, 0.0]])\n",
    "R = np.array([0.5]).reshape(1, 1)\n",
    "\n",
    "T = np.arange(dt, 5, dt)\n",
    "\n",
    "# our initial guess is 0 for position and acceleration and 1.25 m/s for velocitoy, \n",
    "# will be corrected later through Kalman filtering\n",
    "x0 = np.array([0, .25*5, 0])\n",
    "\n",
    "display(Markdown('Again, we prepare the state vectors and transition matrices:'),\n",
    "        Latex(f'\\\\begin{{align*}} ' \n",
    "              f'  M   &= {latex(Matrix(F))} & H   &= {latex(Matrix(H))} \\\\\\\\'\n",
    "              f'  Q   &= {latex(Matrix(Q))} & R   &= {latex(Matrix(R))} \\\\\\\\'\n",
    "              f'  x_0 &= {latex(Matrix(x0))} \\\\\\\\'\n",
    "              f'\\\\end{{align*}}'))"
   ]
  },
  {
   "cell_type": "code",
   "execution_count": 5,
   "id": "62b15728-e869-46d7-8791-40063c62d26c",
   "metadata": {},
   "outputs": [
    {
     "data": {
      "text/plain": [
       "<Figure size 640x480 with 0 Axes>"
      ]
     },
     "metadata": {},
     "output_type": "display_data"
    },
    {
     "data": {
      "image/png": "[encoded data removed]",
      "text/plain": [
       "<Figure size 640x480 with 2 Axes>"
      ]
     },
     "metadata": {},
     "output_type": "display_data"
    }
   ],
   "source": [
    "# define some arrays for later plitting\n",
    "\n",
    "# that's the ideal trajectoy\n",
    "ideal = [np.array([0, 5, 0])]\n",
    "#                  |  |  |\n",
    "#                  |  |  +-> acceleration\n",
    "#                  |  +----> velocity\n",
    "#                  +-------> position\n",
    "\n",
    "measurements = [np.zeros_like(H @ ideal[-1])]\n",
    "predictions = [np.zeros_like(ideal[-1])]\n",
    "\n",
    "# get the 'real' states\n",
    "for t in T[1:]:\n",
    "    # propagate the ideal states\n",
    "    ideal.append(F @ ideal[-1])\n",
    "    \n",
    "    # we only see through the sensor's goggles, i.e., limited number of states and sensor noise\n",
    "    measurements.append(H @ ideal[-1] + np.random.normal(0, 2))\n",
    "    \n",
    "# initialize the Kalman filter\n",
    "kf = KalmanFilter(F = F, H = H, Q = Q, R = R, x0 = x0)\n",
    "\n",
    "for t, x, z in zip(T[1:], ideal, measurements):\n",
    "    # predict the next state\n",
    "    x_ = kf.predict()\n",
    "    \n",
    "    # we can only see through the sensor's goggles\n",
    "    z_ = np.dot(H, x_)\n",
    "    \n",
    "    # save the prediction for later plotting\n",
    "    # predictions.append(z_)\n",
    "    predictions.append(x_)\n",
    "    \n",
    "    # correct the prediction with the measurement and update Kalman filter\n",
    "    kf.update(z)\n",
    "\n",
    "import matplotlib.pyplot as plt\n",
    "\n",
    "plt.clf()\n",
    "fig, ax = plt.subplots(2, 1, sharex=True)\n",
    "ax[0].plot(T, ideal @ H.transpose(), '--', label = 'Ideal trajectory')\n",
    "ax[0].plot(T, measurements, label = 'Measurements')\n",
    "ax[0].plot(T, predictions @ H.transpose(), label = 'Kalman filter prediction')\n",
    "ax[0].legend()\n",
    "ax[0].set_ylabel('position')\n",
    "\n",
    "H_ = np.array([0, 1, 0])\n",
    "ax[1].plot(T, np.matrix(ideal)[:,1], '--', label = 'Ideal velocity')\n",
    "ax[1].plot(T, T*np.nan, label = 'Measurements') # we don't have measurements, but for color consistency\n",
    "ax[1].plot(T, predictions @ H_, label = 'Kalman filter prediction')\n",
    "ax[1].legend()\n",
    "ax[1].set_xlabel('time (in s)')\n",
    "ax[1].set_ylabel('velocity (in 1/s)');"
   ]
  }
 ],
 "metadata": {
  "kernelspec": {
   "display_name": "Python 3 (ipykernel)",
   "language": "python",
   "name": "python3"
  },
  "language_info": {
   "codemirror_mode": {
    "name": "ipython",
    "version": 3
   },
   "file_extension": ".py",
   "mimetype": "text/x-python",
   "name": "python",
   "nbconvert_exporter": "python",
   "pygments_lexer": "ipython3",
   "version": "3.11.4"
  }
 },
 "nbformat": 4,
 "nbformat_minor": 5
}
